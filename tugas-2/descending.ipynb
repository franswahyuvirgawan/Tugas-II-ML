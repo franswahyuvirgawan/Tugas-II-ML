{
 "cells": [
  {
   "cell_type": "code",
   "execution_count": 2,
   "metadata": {},
   "outputs": [
    {
     "name": "stdout",
     "output_type": "stream",
     "text": [
      "Data awal: [5, 2, 9, 3, 8, 4]\n",
      "Data descending: [9, 8, 5, 4, 3, 2]\n"
     ]
    }
   ],
   "source": [
    "data = [5, 2, 9, 3, 8, 4]\n",
    "print(\"Data awal:\", data)\n",
    "\n",
    "swapped = True \n",
    "while swapped:\n",
    "    swapped = False \n",
    "    for i in range(len(data) - 1):\n",
    "            if data[i] < data[i + 1]:\n",
    "                swapped = True\n",
    "                data[i], data[i + 1] = data[i + 1], data[i]\n",
    "\n",
    "print(\"Data descending:\", data)"
   ]
  }
 ],
 "metadata": {
  "kernelspec": {
   "display_name": "Python 3",
   "language": "python",
   "name": "python3"
  },
  "language_info": {
   "codemirror_mode": {
    "name": "ipython",
    "version": 3
   },
   "file_extension": ".py",
   "mimetype": "text/x-python",
   "name": "python",
   "nbconvert_exporter": "python",
   "pygments_lexer": "ipython3",
   "version": "3.11.3"
  },
  "orig_nbformat": 4
 },
 "nbformat": 4,
 "nbformat_minor": 2
}
